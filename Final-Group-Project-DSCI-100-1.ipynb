{
 "cells": [
  {
   "cell_type": "markdown",
   "metadata": {},
   "source": [
    "Anindya De 23943772"
   ]
  },
  {
   "cell_type": "markdown",
   "metadata": {},
   "source": [
    "DSCI 100 \n",
    "Final Group Project"
   ]
  },
  {
   "cell_type": "markdown",
   "metadata": {},
   "source": [
    "# How To Make A Chart Topper "
   ]
  },
  {
   "cell_type": "markdown",
   "metadata": {},
   "source": [
    "## 1. Introduction"
   ]
  },
  {
   "cell_type": "markdown",
   "metadata": {},
   "source": [
    "### 1.1 Background"
   ]
  },
  {
   "cell_type": "markdown",
   "metadata": {},
   "source": [
    "Spotify is the most popular audio streaming service today for music. After launching in 2008 it now boasts over 50 million tracks and billions of weekly streams. It is available in 79 different countries with 217 million users, and in 2019 Spotify reported revenue of $7.44 billion dollars (USD). Because of Spotify's widespread global popularity, it is a perfect location to discover the most popular music among the general public, and subsequently learn why those songs are so appealing. \n"
   ]
  },
  {
   "cell_type": "markdown",
   "metadata": {},
   "source": [
    "### 1.2 Question"
   ]
  },
  {
   "cell_type": "markdown",
   "metadata": {},
   "source": [
    "Our research question that we hope to answer by reading and  analyzing the data is, how can a song’s level of energy (on a scale from 1-100 depending on how energetic a song is), and loudness (in decibels) be used to predict a song’s popularity on Spotify?\n"
   ]
  },
  {
   "cell_type": "markdown",
   "metadata": {},
   "source": [
    "### 1.3 The Dataset "
   ]
  },
  {
   "cell_type": "markdown",
   "metadata": {},
   "source": [
    "Our dataset is from Kaggle and consists of the most popular songs on Spotify each year from 2010 to 2019 and multiple technical and qualitative variables of a song. The data is gathered using a function made by Spotify called Organize Your Music. Organize Your Music is an algorithm created by Spotify as a means to sort user’s music into cohesive playlists. The variables used in this algorithm are the variables that appear in the dataset. This selection variables were created and chosen by Spotify to uniquely classify and characterize its product. Spotify is a multibillion dollar streaming service and since these were the variables created and chosen to accurately categorize this service’s product then these variables must be significant and reliable. As such they are the best and the most descriptive factors that we could use to predict a song’s popularity. \n"
   ]
  },
  {
   "cell_type": "markdown",
   "metadata": {},
   "source": [
    "## 2. Methodology"
   ]
  },
  {
   "cell_type": "markdown",
   "metadata": {},
   "source": []
  },
  {
   "cell_type": "markdown",
   "metadata": {},
   "source": []
  },
  {
   "cell_type": "markdown",
   "metadata": {},
   "source": [
    "### 2.2 Cleaning The Dataset"
   ]
  },
  {
   "cell_type": "markdown",
   "metadata": {},
   "source": [
    "First, we have selected the qualitative variables by using the select() function for cleaning the data. "
   ]
  },
  {
   "cell_type": "code",
   "execution_count": 25,
   "metadata": {},
   "outputs": [],
   "source": [
    "library(tidyverse) \n",
    "library(dplyr)\n",
    "library(gridExtra)\n",
    "library(repr)  \n",
    "library(digest)\n",
    "library(GGally)\n",
    "library(caret)"
   ]
  },
  {
   "cell_type": "markdown",
   "metadata": {},
   "source": [
    "### 2.1 Loading The Dataset"
   ]
  },
  {
   "cell_type": "markdown",
   "metadata": {},
   "source": [
    "We had to move the dataset into Google drive and read the html form of the source code using read_csv function. After we successfully loaded the dataset, we have 15 columns including the titles of the songs and many quantitative variables that will be used as our predictive variables to predict correlation with popularity. "
   ]
  },
  {
   "cell_type": "code",
   "execution_count": 26,
   "metadata": {
    "scrolled": true
   },
   "outputs": [
    {
     "name": "stderr",
     "output_type": "stream",
     "text": [
      "Warning message:\n",
      "“Missing column names filled in: 'X1' [1]”Parsed with column specification:\n",
      "cols(\n",
      "  X1 = \u001b[32mcol_double()\u001b[39m,\n",
      "  title = \u001b[31mcol_character()\u001b[39m,\n",
      "  artist = \u001b[31mcol_character()\u001b[39m,\n",
      "  `top genre` = \u001b[31mcol_character()\u001b[39m,\n",
      "  year = \u001b[32mcol_double()\u001b[39m,\n",
      "  bpm = \u001b[32mcol_double()\u001b[39m,\n",
      "  nrgy = \u001b[32mcol_double()\u001b[39m,\n",
      "  dnce = \u001b[32mcol_double()\u001b[39m,\n",
      "  dB = \u001b[32mcol_double()\u001b[39m,\n",
      "  live = \u001b[32mcol_double()\u001b[39m,\n",
      "  val = \u001b[32mcol_double()\u001b[39m,\n",
      "  dur = \u001b[32mcol_double()\u001b[39m,\n",
      "  acous = \u001b[32mcol_double()\u001b[39m,\n",
      "  spch = \u001b[32mcol_double()\u001b[39m,\n",
      "  pop = \u001b[32mcol_double()\u001b[39m\n",
      ")\n"
     ]
    },
    {
     "data": {
      "text/html": [
       "<table>\n",
       "<caption>A tibble: 6 × 15</caption>\n",
       "<thead>\n",
       "\t<tr><th scope=col>X1</th><th scope=col>title</th><th scope=col>artist</th><th scope=col>top genre</th><th scope=col>year</th><th scope=col>bpm</th><th scope=col>nrgy</th><th scope=col>dnce</th><th scope=col>dB</th><th scope=col>live</th><th scope=col>val</th><th scope=col>dur</th><th scope=col>acous</th><th scope=col>spch</th><th scope=col>pop</th></tr>\n",
       "\t<tr><th scope=col>&lt;dbl&gt;</th><th scope=col>&lt;chr&gt;</th><th scope=col>&lt;chr&gt;</th><th scope=col>&lt;chr&gt;</th><th scope=col>&lt;dbl&gt;</th><th scope=col>&lt;dbl&gt;</th><th scope=col>&lt;dbl&gt;</th><th scope=col>&lt;dbl&gt;</th><th scope=col>&lt;dbl&gt;</th><th scope=col>&lt;dbl&gt;</th><th scope=col>&lt;dbl&gt;</th><th scope=col>&lt;dbl&gt;</th><th scope=col>&lt;dbl&gt;</th><th scope=col>&lt;dbl&gt;</th><th scope=col>&lt;dbl&gt;</th></tr>\n",
       "</thead>\n",
       "<tbody>\n",
       "\t<tr><td>1</td><td>Hey, Soul Sister    </td><td>Train        </td><td>neo mellow     </td><td>2010</td><td> 97</td><td>89</td><td>67</td><td>-4</td><td> 8</td><td>80</td><td>217</td><td>19</td><td> 4</td><td>83</td></tr>\n",
       "\t<tr><td>2</td><td>Love The Way You Lie</td><td>Eminem       </td><td>detroit hip hop</td><td>2010</td><td> 87</td><td>93</td><td>75</td><td>-5</td><td>52</td><td>64</td><td>263</td><td>24</td><td>23</td><td>82</td></tr>\n",
       "\t<tr><td>3</td><td>TiK ToK             </td><td>Kesha        </td><td>dance pop      </td><td>2010</td><td>120</td><td>84</td><td>76</td><td>-3</td><td>29</td><td>71</td><td>200</td><td>10</td><td>14</td><td>80</td></tr>\n",
       "\t<tr><td>4</td><td>Bad Romance         </td><td>Lady Gaga    </td><td>dance pop      </td><td>2010</td><td>119</td><td>92</td><td>70</td><td>-4</td><td> 8</td><td>71</td><td>295</td><td> 0</td><td> 4</td><td>79</td></tr>\n",
       "\t<tr><td>5</td><td>Just the Way You Are</td><td>Bruno Mars   </td><td>pop            </td><td>2010</td><td>109</td><td>84</td><td>64</td><td>-5</td><td> 9</td><td>43</td><td>221</td><td> 2</td><td> 4</td><td>78</td></tr>\n",
       "\t<tr><td>6</td><td>Baby                </td><td>Justin Bieber</td><td>canadian pop   </td><td>2010</td><td> 65</td><td>86</td><td>73</td><td>-5</td><td>11</td><td>54</td><td>214</td><td> 4</td><td>14</td><td>77</td></tr>\n",
       "</tbody>\n",
       "</table>\n"
      ],
      "text/latex": [
       "A tibble: 6 × 15\n",
       "\\begin{tabular}{r|lllllllllllllll}\n",
       " X1 & title & artist & top genre & year & bpm & nrgy & dnce & dB & live & val & dur & acous & spch & pop\\\\\n",
       " <dbl> & <chr> & <chr> & <chr> & <dbl> & <dbl> & <dbl> & <dbl> & <dbl> & <dbl> & <dbl> & <dbl> & <dbl> & <dbl> & <dbl>\\\\\n",
       "\\hline\n",
       "\t 1 & Hey, Soul Sister     & Train         & neo mellow      & 2010 &  97 & 89 & 67 & -4 &  8 & 80 & 217 & 19 &  4 & 83\\\\\n",
       "\t 2 & Love The Way You Lie & Eminem        & detroit hip hop & 2010 &  87 & 93 & 75 & -5 & 52 & 64 & 263 & 24 & 23 & 82\\\\\n",
       "\t 3 & TiK ToK              & Kesha         & dance pop       & 2010 & 120 & 84 & 76 & -3 & 29 & 71 & 200 & 10 & 14 & 80\\\\\n",
       "\t 4 & Bad Romance          & Lady Gaga     & dance pop       & 2010 & 119 & 92 & 70 & -4 &  8 & 71 & 295 &  0 &  4 & 79\\\\\n",
       "\t 5 & Just the Way You Are & Bruno Mars    & pop             & 2010 & 109 & 84 & 64 & -5 &  9 & 43 & 221 &  2 &  4 & 78\\\\\n",
       "\t 6 & Baby                 & Justin Bieber & canadian pop    & 2010 &  65 & 86 & 73 & -5 & 11 & 54 & 214 &  4 & 14 & 77\\\\\n",
       "\\end{tabular}\n"
      ],
      "text/markdown": [
       "\n",
       "A tibble: 6 × 15\n",
       "\n",
       "| X1 &lt;dbl&gt; | title &lt;chr&gt; | artist &lt;chr&gt; | top genre &lt;chr&gt; | year &lt;dbl&gt; | bpm &lt;dbl&gt; | nrgy &lt;dbl&gt; | dnce &lt;dbl&gt; | dB &lt;dbl&gt; | live &lt;dbl&gt; | val &lt;dbl&gt; | dur &lt;dbl&gt; | acous &lt;dbl&gt; | spch &lt;dbl&gt; | pop &lt;dbl&gt; |\n",
       "|---|---|---|---|---|---|---|---|---|---|---|---|---|---|---|\n",
       "| 1 | Hey, Soul Sister     | Train         | neo mellow      | 2010 |  97 | 89 | 67 | -4 |  8 | 80 | 217 | 19 |  4 | 83 |\n",
       "| 2 | Love The Way You Lie | Eminem        | detroit hip hop | 2010 |  87 | 93 | 75 | -5 | 52 | 64 | 263 | 24 | 23 | 82 |\n",
       "| 3 | TiK ToK              | Kesha         | dance pop       | 2010 | 120 | 84 | 76 | -3 | 29 | 71 | 200 | 10 | 14 | 80 |\n",
       "| 4 | Bad Romance          | Lady Gaga     | dance pop       | 2010 | 119 | 92 | 70 | -4 |  8 | 71 | 295 |  0 |  4 | 79 |\n",
       "| 5 | Just the Way You Are | Bruno Mars    | pop             | 2010 | 109 | 84 | 64 | -5 |  9 | 43 | 221 |  2 |  4 | 78 |\n",
       "| 6 | Baby                 | Justin Bieber | canadian pop    | 2010 |  65 | 86 | 73 | -5 | 11 | 54 | 214 |  4 | 14 | 77 |\n",
       "\n"
      ],
      "text/plain": [
       "  X1 title                artist        top genre       year bpm nrgy dnce dB\n",
       "1 1  Hey, Soul Sister     Train         neo mellow      2010  97 89   67   -4\n",
       "2 2  Love The Way You Lie Eminem        detroit hip hop 2010  87 93   75   -5\n",
       "3 3  TiK ToK              Kesha         dance pop       2010 120 84   76   -3\n",
       "4 4  Bad Romance          Lady Gaga     dance pop       2010 119 92   70   -4\n",
       "5 5  Just the Way You Are Bruno Mars    pop             2010 109 84   64   -5\n",
       "6 6  Baby                 Justin Bieber canadian pop    2010  65 86   73   -5\n",
       "  live val dur acous spch pop\n",
       "1  8   80  217 19     4   83 \n",
       "2 52   64  263 24    23   82 \n",
       "3 29   71  200 10    14   80 \n",
       "4  8   71  295  0     4   79 \n",
       "5  9   43  221  2     4   78 \n",
       "6 11   54  214  4    14   77 "
      ]
     },
     "metadata": {},
     "output_type": "display_data"
    }
   ],
   "source": [
    "## Loading the data set:\n",
    "spotify_original_data <- read_csv(\"https://drive.google.com/uc?export=download&id=1h8isTz0sEj-HflMdQ7fuf-K8wlIRroML\")\n",
    "head(spotify_original_data)"
   ]
  },
  {
   "cell_type": "markdown",
   "metadata": {},
   "source": [
    "### 2.2 Cleaning and wrangling the Data\n",
    "1. We got rid of spaces in the names of the columns"
   ]
  },
  {
   "cell_type": "code",
   "execution_count": 27,
   "metadata": {},
   "outputs": [
    {
     "data": {
      "text/html": [
       "<ol class=list-inline>\n",
       "\t<li>'X1'</li>\n",
       "\t<li>'title'</li>\n",
       "\t<li>'artist'</li>\n",
       "\t<li>'top.genre'</li>\n",
       "\t<li>'year'</li>\n",
       "\t<li>'bpm'</li>\n",
       "\t<li>'nrgy'</li>\n",
       "\t<li>'dnce'</li>\n",
       "\t<li>'dB'</li>\n",
       "\t<li>'live'</li>\n",
       "\t<li>'val'</li>\n",
       "\t<li>'dur'</li>\n",
       "\t<li>'acous'</li>\n",
       "\t<li>'spch'</li>\n",
       "\t<li>'pop'</li>\n",
       "</ol>\n"
      ],
      "text/latex": [
       "\\begin{enumerate*}\n",
       "\\item 'X1'\n",
       "\\item 'title'\n",
       "\\item 'artist'\n",
       "\\item 'top.genre'\n",
       "\\item 'year'\n",
       "\\item 'bpm'\n",
       "\\item 'nrgy'\n",
       "\\item 'dnce'\n",
       "\\item 'dB'\n",
       "\\item 'live'\n",
       "\\item 'val'\n",
       "\\item 'dur'\n",
       "\\item 'acous'\n",
       "\\item 'spch'\n",
       "\\item 'pop'\n",
       "\\end{enumerate*}\n"
      ],
      "text/markdown": [
       "1. 'X1'\n",
       "2. 'title'\n",
       "3. 'artist'\n",
       "4. 'top.genre'\n",
       "5. 'year'\n",
       "6. 'bpm'\n",
       "7. 'nrgy'\n",
       "8. 'dnce'\n",
       "9. 'dB'\n",
       "10. 'live'\n",
       "11. 'val'\n",
       "12. 'dur'\n",
       "13. 'acous'\n",
       "14. 'spch'\n",
       "15. 'pop'\n",
       "\n",
       "\n"
      ],
      "text/plain": [
       " [1] \"X1\"        \"title\"     \"artist\"    \"top.genre\" \"year\"      \"bpm\"      \n",
       " [7] \"nrgy\"      \"dnce\"      \"dB\"        \"live\"      \"val\"       \"dur\"      \n",
       "[13] \"acous\"     \"spch\"      \"pop\"      "
      ]
     },
     "metadata": {},
     "output_type": "display_data"
    }
   ],
   "source": [
    "colnames(spotify_original_data) <- make.names(colnames(spotify_original_data))\n",
    "colnames(spotify_original_data)"
   ]
  },
  {
   "cell_type": "markdown",
   "metadata": {},
   "source": [
    "2. Here we selected the variables that had the highest correlation coefiecent together. (r = .568)"
   ]
  },
  {
   "cell_type": "code",
   "execution_count": 28,
   "metadata": {
    "scrolled": true
   },
   "outputs": [
    {
     "data": {
      "text/html": [
       "<table>\n",
       "<caption>A tibble: 6 × 4</caption>\n",
       "<thead>\n",
       "\t<tr><th scope=col>title</th><th scope=col>pop</th><th scope=col>nrgy</th><th scope=col>dB</th></tr>\n",
       "\t<tr><th scope=col>&lt;chr&gt;</th><th scope=col>&lt;dbl&gt;</th><th scope=col>&lt;dbl&gt;</th><th scope=col>&lt;dbl&gt;</th></tr>\n",
       "</thead>\n",
       "<tbody>\n",
       "\t<tr><td>Hey, Soul Sister    </td><td>83</td><td>89</td><td>-4</td></tr>\n",
       "\t<tr><td>Love The Way You Lie</td><td>82</td><td>93</td><td>-5</td></tr>\n",
       "\t<tr><td>TiK ToK             </td><td>80</td><td>84</td><td>-3</td></tr>\n",
       "\t<tr><td>Bad Romance         </td><td>79</td><td>92</td><td>-4</td></tr>\n",
       "\t<tr><td>Just the Way You Are</td><td>78</td><td>84</td><td>-5</td></tr>\n",
       "\t<tr><td>Baby                </td><td>77</td><td>86</td><td>-5</td></tr>\n",
       "</tbody>\n",
       "</table>\n"
      ],
      "text/latex": [
       "A tibble: 6 × 4\n",
       "\\begin{tabular}{r|llll}\n",
       " title & pop & nrgy & dB\\\\\n",
       " <chr> & <dbl> & <dbl> & <dbl>\\\\\n",
       "\\hline\n",
       "\t Hey, Soul Sister     & 83 & 89 & -4\\\\\n",
       "\t Love The Way You Lie & 82 & 93 & -5\\\\\n",
       "\t TiK ToK              & 80 & 84 & -3\\\\\n",
       "\t Bad Romance          & 79 & 92 & -4\\\\\n",
       "\t Just the Way You Are & 78 & 84 & -5\\\\\n",
       "\t Baby                 & 77 & 86 & -5\\\\\n",
       "\\end{tabular}\n"
      ],
      "text/markdown": [
       "\n",
       "A tibble: 6 × 4\n",
       "\n",
       "| title &lt;chr&gt; | pop &lt;dbl&gt; | nrgy &lt;dbl&gt; | dB &lt;dbl&gt; |\n",
       "|---|---|---|---|\n",
       "| Hey, Soul Sister     | 83 | 89 | -4 |\n",
       "| Love The Way You Lie | 82 | 93 | -5 |\n",
       "| TiK ToK              | 80 | 84 | -3 |\n",
       "| Bad Romance          | 79 | 92 | -4 |\n",
       "| Just the Way You Are | 78 | 84 | -5 |\n",
       "| Baby                 | 77 | 86 | -5 |\n",
       "\n"
      ],
      "text/plain": [
       "  title                pop nrgy dB\n",
       "1 Hey, Soul Sister     83  89   -4\n",
       "2 Love The Way You Lie 82  93   -5\n",
       "3 TiK ToK              80  84   -3\n",
       "4 Bad Romance          79  92   -4\n",
       "5 Just the Way You Are 78  84   -5\n",
       "6 Baby                 77  86   -5"
      ]
     },
     "metadata": {},
     "output_type": "display_data"
    }
   ],
   "source": [
    "spotify <- select(spotify_original_data, title, pop, nrgy, dB)\n",
    "head(spotify)"
   ]
  },
  {
   "cell_type": "markdown",
   "metadata": {},
   "source": [
    "### 2.3 Creating a Categorical Variable"
   ]
  },
  {
   "cell_type": "markdown",
   "metadata": {},
   "source": [
    "Here we change popularity into categories from numerical values, (top 33% middle 33% and bottom 33% ) These three catagories will be how we predict how popular a song will be. One thing to note is that “popularity,” our response variable is scaled from 1-100 depending on the number of plays of the song on Spotify, with 100 being the most plays. To make this a categorical variable, we have used the cut function in R to separate a song’s popularity into 3 categories: \"Low Popularity\", \"Normal Popularity\", \"High Popularity.\" Low popularity is popularity from [-1,33.33], normal popularity is (33.33,66.66], and high popularity is (66,inf). Now, the variable name is “pop_category”."
   ]
  },
  {
   "cell_type": "code",
   "execution_count": 29,
   "metadata": {},
   "outputs": [
    {
     "data": {
      "text/html": [
       "<table>\n",
       "<caption>A tibble: 6 × 4</caption>\n",
       "<thead>\n",
       "\t<tr><th scope=col>title</th><th scope=col>nrgy</th><th scope=col>dB</th><th scope=col>pop_category</th></tr>\n",
       "\t<tr><th scope=col>&lt;chr&gt;</th><th scope=col>&lt;dbl&gt;</th><th scope=col>&lt;dbl&gt;</th><th scope=col>&lt;fct&gt;</th></tr>\n",
       "</thead>\n",
       "<tbody>\n",
       "\t<tr><td>Hey, Soul Sister    </td><td>89</td><td>-4</td><td>High Popularity</td></tr>\n",
       "\t<tr><td>Love The Way You Lie</td><td>93</td><td>-5</td><td>High Popularity</td></tr>\n",
       "\t<tr><td>TiK ToK             </td><td>84</td><td>-3</td><td>High Popularity</td></tr>\n",
       "\t<tr><td>Bad Romance         </td><td>92</td><td>-4</td><td>High Popularity</td></tr>\n",
       "\t<tr><td>Just the Way You Are</td><td>84</td><td>-5</td><td>High Popularity</td></tr>\n",
       "\t<tr><td>Baby                </td><td>86</td><td>-5</td><td>High Popularity</td></tr>\n",
       "</tbody>\n",
       "</table>\n"
      ],
      "text/latex": [
       "A tibble: 6 × 4\n",
       "\\begin{tabular}{r|llll}\n",
       " title & nrgy & dB & pop\\_category\\\\\n",
       " <chr> & <dbl> & <dbl> & <fct>\\\\\n",
       "\\hline\n",
       "\t Hey, Soul Sister     & 89 & -4 & High Popularity\\\\\n",
       "\t Love The Way You Lie & 93 & -5 & High Popularity\\\\\n",
       "\t TiK ToK              & 84 & -3 & High Popularity\\\\\n",
       "\t Bad Romance          & 92 & -4 & High Popularity\\\\\n",
       "\t Just the Way You Are & 84 & -5 & High Popularity\\\\\n",
       "\t Baby                 & 86 & -5 & High Popularity\\\\\n",
       "\\end{tabular}\n"
      ],
      "text/markdown": [
       "\n",
       "A tibble: 6 × 4\n",
       "\n",
       "| title &lt;chr&gt; | nrgy &lt;dbl&gt; | dB &lt;dbl&gt; | pop_category &lt;fct&gt; |\n",
       "|---|---|---|---|\n",
       "| Hey, Soul Sister     | 89 | -4 | High Popularity |\n",
       "| Love The Way You Lie | 93 | -5 | High Popularity |\n",
       "| TiK ToK              | 84 | -3 | High Popularity |\n",
       "| Bad Romance          | 92 | -4 | High Popularity |\n",
       "| Just the Way You Are | 84 | -5 | High Popularity |\n",
       "| Baby                 | 86 | -5 | High Popularity |\n",
       "\n"
      ],
      "text/plain": [
       "  title                nrgy dB pop_category   \n",
       "1 Hey, Soul Sister     89   -4 High Popularity\n",
       "2 Love The Way You Lie 93   -5 High Popularity\n",
       "3 TiK ToK              84   -3 High Popularity\n",
       "4 Bad Romance          92   -4 High Popularity\n",
       "5 Just the Way You Are 84   -5 High Popularity\n",
       "6 Baby                 86   -5 High Popularity"
      ]
     },
     "metadata": {},
     "output_type": "display_data"
    }
   ],
   "source": [
    "spotifydata <- spotify %>%\n",
    "    mutate(pop_category = cut(pop, breaks=c(-1,33.33,66.66,Inf), labels=c(\"Low Popularity\",\"Normal Popularity\",\"High Popularity\")))%>%\n",
    "    select(-pop)\n",
    "\n",
    "head(spotifydata)\n",
    "\n"
   ]
  },
  {
   "cell_type": "markdown",
   "metadata": {},
   "source": [
    "Here we checked the vectors that were created by categorizing the column \"Popularity\""
   ]
  },
  {
   "cell_type": "code",
   "execution_count": 30,
   "metadata": {},
   "outputs": [
    {
     "data": {
      "text/html": [
       "<ol class=list-inline>\n",
       "\t<li>'Low Popularity'</li>\n",
       "\t<li>'Normal Popularity'</li>\n",
       "\t<li>'High Popularity'</li>\n",
       "</ol>\n"
      ],
      "text/latex": [
       "\\begin{enumerate*}\n",
       "\\item 'Low Popularity'\n",
       "\\item 'Normal Popularity'\n",
       "\\item 'High Popularity'\n",
       "\\end{enumerate*}\n"
      ],
      "text/markdown": [
       "1. 'Low Popularity'\n",
       "2. 'Normal Popularity'\n",
       "3. 'High Popularity'\n",
       "\n",
       "\n"
      ],
      "text/plain": [
       "[1] \"Low Popularity\"    \"Normal Popularity\" \"High Popularity\"  "
      ]
     },
     "metadata": {},
     "output_type": "display_data"
    }
   ],
   "source": [
    "spotify_vectors <- spotifydata %>%\n",
    "    select(pop_category)%>%\n",
    "    unlist()%>%\n",
    "    levels()\n",
    "    \n",
    "spotify_vectors"
   ]
  },
  {
   "cell_type": "markdown",
   "metadata": {},
   "source": [
    "### 2.4 Exploring the data "
   ]
  },
  {
   "cell_type": "markdown",
   "metadata": {},
   "source": [
    "We used nrow() to see how many rows are fitting in each of pop_categories. We were also able to check out the result of scatter plot using the whole dataset using ggplot() to make a rough prediction.\n"
   ]
  },
  {
   "cell_type": "code",
   "execution_count": 31,
   "metadata": {},
   "outputs": [
    {
     "data": {
      "text/html": [
       "<table>\n",
       "<caption>A tibble: 3 × 3</caption>\n",
       "<thead>\n",
       "\t<tr><th scope=col>pop_category</th><th scope=col>n</th><th scope=col>percentage</th></tr>\n",
       "\t<tr><th scope=col>&lt;fct&gt;</th><th scope=col>&lt;int&gt;</th><th scope=col>&lt;dbl&gt;</th></tr>\n",
       "</thead>\n",
       "<tbody>\n",
       "\t<tr><td>Low Popularity   </td><td> 18</td><td> 2.985075</td></tr>\n",
       "\t<tr><td>Normal Popularity</td><td>232</td><td>38.474295</td></tr>\n",
       "\t<tr><td>High Popularity  </td><td>353</td><td>58.540630</td></tr>\n",
       "</tbody>\n",
       "</table>\n"
      ],
      "text/latex": [
       "A tibble: 3 × 3\n",
       "\\begin{tabular}{r|lll}\n",
       " pop\\_category & n & percentage\\\\\n",
       " <fct> & <int> & <dbl>\\\\\n",
       "\\hline\n",
       "\t Low Popularity    &  18 &  2.985075\\\\\n",
       "\t Normal Popularity & 232 & 38.474295\\\\\n",
       "\t High Popularity   & 353 & 58.540630\\\\\n",
       "\\end{tabular}\n"
      ],
      "text/markdown": [
       "\n",
       "A tibble: 3 × 3\n",
       "\n",
       "| pop_category &lt;fct&gt; | n &lt;int&gt; | percentage &lt;dbl&gt; |\n",
       "|---|---|---|\n",
       "| Low Popularity    |  18 |  2.985075 |\n",
       "| Normal Popularity | 232 | 38.474295 |\n",
       "| High Popularity   | 353 | 58.540630 |\n",
       "\n"
      ],
      "text/plain": [
       "  pop_category      n   percentage\n",
       "1 Low Popularity     18  2.985075 \n",
       "2 Normal Popularity 232 38.474295 \n",
       "3 High Popularity   353 58.540630 "
      ]
     },
     "metadata": {},
     "output_type": "display_data"
    }
   ],
   "source": [
    "obs <- nrow(spotifydata)\n",
    "spotifydata %>%\n",
    "    group_by(pop_category)%>%\n",
    "    summarize(n = n(), percentage = n() / obs * 100)"
   ]
  },
  {
   "cell_type": "markdown",
   "metadata": {},
   "source": [
    "### 2.5 Visualization 1"
   ]
  },
  {
   "cell_type": "markdown",
   "metadata": {},
   "source": [
    "Here we visualized the data to see its trajectory, patern, and how the categories are represented. As you can see, the data is quite random, with little correlation between the categories, and with the \"Low Popularity\" category being grossly underrepresented. "
   ]
  },
  {
   "cell_type": "code",
   "execution_count": 32,
   "metadata": {},
   "outputs": [
    {
     "data": {
      "image/png": "[encoded data removed]",
      "text/plain": [
       "plot without title"
      ]
     },
     "metadata": {},
     "output_type": "display_data"
    }
   ],
   "source": [
    "\n",
    "perim_spotify <- spotifydata %>%  \n",
    "  ggplot(aes(x = nrgy, y = dB, color = pop_category)) + \n",
    "    geom_point(alpha = 0.5) +\n",
    "    labs(x = \"Energy\", y = \"Loudness (Deicbels)\", color = \"Popularity\")\n",
    "perim_spotify"
   ]
  },
  {
   "cell_type": "markdown",
   "metadata": {},
   "source": [
    "### 2.6 Standardization"
   ]
  },
  {
   "cell_type": "markdown",
   "metadata": {},
   "source": [
    "Using preProcess() enabled us to standardize the data. From this point, we have scaled data. We specified the center (0) and scale (1) and applied the data transformation to the dataset with predict() function."
   ]
  },
  {
   "cell_type": "code",
   "execution_count": 33,
   "metadata": {},
   "outputs": [
    {
     "data": {
      "text/html": [
       "<table>\n",
       "<caption>A tibble: 6 × 4</caption>\n",
       "<thead>\n",
       "\t<tr><th scope=col>title</th><th scope=col>nrgy</th><th scope=col>dB</th><th scope=col>pop_category</th></tr>\n",
       "\t<tr><th scope=col>&lt;chr&gt;</th><th scope=col>&lt;dbl&gt;</th><th scope=col>&lt;dbl&gt;</th><th scope=col>&lt;fct&gt;</th></tr>\n",
       "</thead>\n",
       "<tbody>\n",
       "\t<tr><td>Hey, Soul Sister    </td><td>1.1339731</td><td>0.5642464</td><td>High Popularity</td></tr>\n",
       "\t<tr><td>Love The Way You Lie</td><td>1.3792114</td><td>0.2068508</td><td>High Popularity</td></tr>\n",
       "\t<tr><td>TiK ToK             </td><td>0.8274252</td><td>0.9216419</td><td>High Popularity</td></tr>\n",
       "\t<tr><td>Bad Romance         </td><td>1.3179018</td><td>0.5642464</td><td>High Popularity</td></tr>\n",
       "\t<tr><td>Just the Way You Are</td><td>0.8274252</td><td>0.2068508</td><td>High Popularity</td></tr>\n",
       "\t<tr><td>Baby                </td><td>0.9500443</td><td>0.2068508</td><td>High Popularity</td></tr>\n",
       "</tbody>\n",
       "</table>\n"
      ],
      "text/latex": [
       "A tibble: 6 × 4\n",
       "\\begin{tabular}{r|llll}\n",
       " title & nrgy & dB & pop\\_category\\\\\n",
       " <chr> & <dbl> & <dbl> & <fct>\\\\\n",
       "\\hline\n",
       "\t Hey, Soul Sister     & 1.1339731 & 0.5642464 & High Popularity\\\\\n",
       "\t Love The Way You Lie & 1.3792114 & 0.2068508 & High Popularity\\\\\n",
       "\t TiK ToK              & 0.8274252 & 0.9216419 & High Popularity\\\\\n",
       "\t Bad Romance          & 1.3179018 & 0.5642464 & High Popularity\\\\\n",
       "\t Just the Way You Are & 0.8274252 & 0.2068508 & High Popularity\\\\\n",
       "\t Baby                 & 0.9500443 & 0.2068508 & High Popularity\\\\\n",
       "\\end{tabular}\n"
      ],
      "text/markdown": [
       "\n",
       "A tibble: 6 × 4\n",
       "\n",
       "| title &lt;chr&gt; | nrgy &lt;dbl&gt; | dB &lt;dbl&gt; | pop_category &lt;fct&gt; |\n",
       "|---|---|---|---|\n",
       "| Hey, Soul Sister     | 1.1339731 | 0.5642464 | High Popularity |\n",
       "| Love The Way You Lie | 1.3792114 | 0.2068508 | High Popularity |\n",
       "| TiK ToK              | 0.8274252 | 0.9216419 | High Popularity |\n",
       "| Bad Romance          | 1.3179018 | 0.5642464 | High Popularity |\n",
       "| Just the Way You Are | 0.8274252 | 0.2068508 | High Popularity |\n",
       "| Baby                 | 0.9500443 | 0.2068508 | High Popularity |\n",
       "\n"
      ],
      "text/plain": [
       "  title                nrgy      dB        pop_category   \n",
       "1 Hey, Soul Sister     1.1339731 0.5642464 High Popularity\n",
       "2 Love The Way You Lie 1.3792114 0.2068508 High Popularity\n",
       "3 TiK ToK              0.8274252 0.9216419 High Popularity\n",
       "4 Bad Romance          1.3179018 0.5642464 High Popularity\n",
       "5 Just the Way You Are 0.8274252 0.2068508 High Popularity\n",
       "6 Baby                 0.9500443 0.2068508 High Popularity"
      ]
     },
     "metadata": {},
     "output_type": "display_data"
    }
   ],
   "source": [
    "scale_transformer <- preProcess(spotifydata, method = c(\"center\", \"scale\")) \n",
    "spotify_scaled <- predict(scale_transformer,spotifydata)\n",
    "\n",
    "head(spotify_scaled)"
   ]
  },
  {
   "cell_type": "markdown",
   "metadata": {},
   "source": [
    "### 2.5 Visualization 2"
   ]
  },
  {
   "cell_type": "markdown",
   "metadata": {},
   "source": [
    "Here we plotted the scaled and unscaled data side by side to see the effect scaling the data has created."
   ]
  },
  {
   "cell_type": "code",
   "execution_count": 34,
   "metadata": {
    "scrolled": true
   },
   "outputs": [
    {
     "data": {
      "image/png": "[encoded data removed]",
      "text/plain": [
       "plot without title"
      ]
     },
     "metadata": {},
     "output_type": "display_data"
    },
    {
     "data": {
      "image/png": "[encoded data removed]",
      "text/plain": [
       "plot without title"
      ]
     },
     "metadata": {},
     "output_type": "display_data"
    }
   ],
   "source": [
    "options(repr.plot.width = 10, repr.plot.height = 5) \n",
    "\n",
    "spotify_scaled_plot <- spotify_scaled %>%  \n",
    "  ggplot(aes(x = nrgy, y = dB, color = pop_category)) + \n",
    "    geom_point(alpha = 0.5) +\n",
    "    labs(x = \"Energy\", y = \"Loudness (Deicbels)\", color = \"Popularity\") +\n",
    "    ggtitle(\"Scaled Data\")\n",
    "spotify_scaled_plot\n",
    "\n",
    "spotify_unscaled_plot<- perim_spotify +\n",
    "    ggtitle(\"Unscaled Data\")\n",
    "spotify_unscaled_plot"
   ]
  },
  {
   "cell_type": "markdown",
   "metadata": {},
   "source": [
    "### 2.6 Balancing The Data"
   ]
  },
  {
   "cell_type": "markdown",
   "metadata": {},
   "source": [
    "Here we balanced the data so that each of our categories are equally represented in our future model."
   ]
  },
  {
   "cell_type": "code",
   "execution_count": 35,
   "metadata": {},
   "outputs": [
    {
     "data": {
      "text/html": [
       "<table>\n",
       "<caption>A tibble: 3 × 2</caption>\n",
       "<thead>\n",
       "\t<tr><th scope=col>Class</th><th scope=col>n</th></tr>\n",
       "\t<tr><th scope=col>&lt;fct&gt;</th><th scope=col>&lt;int&gt;</th></tr>\n",
       "</thead>\n",
       "<tbody>\n",
       "\t<tr><td>Low Popularity   </td><td>353</td></tr>\n",
       "\t<tr><td>Normal Popularity</td><td>353</td></tr>\n",
       "\t<tr><td>High Popularity  </td><td>353</td></tr>\n",
       "</tbody>\n",
       "</table>\n"
      ],
      "text/latex": [
       "A tibble: 3 × 2\n",
       "\\begin{tabular}{r|ll}\n",
       " Class & n\\\\\n",
       " <fct> & <int>\\\\\n",
       "\\hline\n",
       "\t Low Popularity    & 353\\\\\n",
       "\t Normal Popularity & 353\\\\\n",
       "\t High Popularity   & 353\\\\\n",
       "\\end{tabular}\n"
      ],
      "text/markdown": [
       "\n",
       "A tibble: 3 × 2\n",
       "\n",
       "| Class &lt;fct&gt; | n &lt;int&gt; |\n",
       "|---|---|\n",
       "| Low Popularity    | 353 |\n",
       "| Normal Popularity | 353 |\n",
       "| High Popularity   | 353 |\n",
       "\n"
      ],
      "text/plain": [
       "  Class             n  \n",
       "1 Low Popularity    353\n",
       "2 Normal Popularity 353\n",
       "3 High Popularity   353"
      ]
     },
     "metadata": {},
     "output_type": "display_data"
    }
   ],
   "source": [
    "spotify_balanced <- upSample(x = select(spotifydata, nrgy, dB),\n",
    "            y = select(spotifydata, pop_category) %>% unlist())\n",
    "spotify_balanced %>% \n",
    "    group_by(Class) %>%\n",
    "    summarize(n = n())"
   ]
  },
  {
   "cell_type": "markdown",
   "metadata": {},
   "source": [
    "### 2.7 Splitting the Dataset"
   ]
  },
  {
   "cell_type": "markdown",
   "metadata": {},
   "source": [
    "1. First we take a random 75% of our balanced data and place it into our training set, here named \"set_rows.\" This will be proportional to the different levels of popularity we specified."
   ]
  },
  {
   "cell_type": "code",
   "execution_count": 12,
   "metadata": {},
   "outputs": [
    {
     "data": {
      "text/html": [
       "<table>\n",
       "<caption>A matrix: 6 × 1 of type int</caption>\n",
       "<thead>\n",
       "\t<tr><th scope=col>Resample1</th></tr>\n",
       "</thead>\n",
       "<tbody>\n",
       "\t<tr><td>1</td></tr>\n",
       "\t<tr><td>2</td></tr>\n",
       "\t<tr><td>3</td></tr>\n",
       "\t<tr><td>4</td></tr>\n",
       "\t<tr><td>5</td></tr>\n",
       "\t<tr><td>8</td></tr>\n",
       "</tbody>\n",
       "</table>\n"
      ],
      "text/latex": [
       "A matrix: 6 × 1 of type int\n",
       "\\begin{tabular}{l}\n",
       " Resample1\\\\\n",
       "\\hline\n",
       "\t 1\\\\\n",
       "\t 2\\\\\n",
       "\t 3\\\\\n",
       "\t 4\\\\\n",
       "\t 5\\\\\n",
       "\t 8\\\\\n",
       "\\end{tabular}\n"
      ],
      "text/markdown": [
       "\n",
       "A matrix: 6 × 1 of type int\n",
       "\n",
       "| Resample1 |\n",
       "|---|\n",
       "| 1 |\n",
       "| 2 |\n",
       "| 3 |\n",
       "| 4 |\n",
       "| 5 |\n",
       "| 8 |\n",
       "\n"
      ],
      "text/plain": [
       "     Resample1\n",
       "[1,] 1        \n",
       "[2,] 2        \n",
       "[3,] 3        \n",
       "[4,] 4        \n",
       "[5,] 5        \n",
       "[6,] 8        "
      ]
     },
     "metadata": {},
     "output_type": "display_data"
    }
   ],
   "source": [
    "set.seed(4567)\n",
    "set_rows <- spotify_balanced %>% \n",
    "  select(Class) %>% \n",
    "  unlist() %>% \n",
    "  createDataPartition(p = 0.75, list = FALSE)\n",
    "head(set_rows)"
   ]
  },
  {
   "cell_type": "markdown",
   "metadata": {},
   "source": [
    "2. Next, we will use the \"slice\" function to take the rows from the dataframe we just created and place them into training and testing sets in a way that they won't affect the results of each other. "
   ]
  },
  {
   "cell_type": "code",
   "execution_count": 13,
   "metadata": {},
   "outputs": [
    {
     "name": "stdout",
     "output_type": "stream",
     "text": [
      "Observations: 795\n",
      "Variables: 3\n",
      "$ nrgy  \u001b[3m\u001b[90m<dbl>\u001b[39m\u001b[23m 90, 98, 88, 88, 81, 92, 78, 54, 53, 39, 71, 81, 47, 0, 72, 54, …\n",
      "$ dB    \u001b[3m\u001b[90m<dbl>\u001b[39m\u001b[23m -5, -3, -4, -4, -4, -3, -5, -9, -5, -8, -7, -3, -10, -60, -5, -…\n",
      "$ Class \u001b[3m\u001b[90m<fct>\u001b[39m\u001b[23m Low Popularity, Low Popularity, Low Popularity, Low Popularity,…\n",
      "Observations: 264\n",
      "Variables: 3\n",
      "$ nrgy  \u001b[3m\u001b[90m<dbl>\u001b[39m\u001b[23m 83, 72, 73, 73, 47, 81, 73, 73, 88, 0, 92, 73, 0, 88, 98, 81, 7…\n",
      "$ dB    \u001b[3m\u001b[90m<dbl>\u001b[39m\u001b[23m -5, -5, -6, -6, -10, -4, -6, -6, -4, -60, -3, -6, -60, -4, -3, …\n",
      "$ Class \u001b[3m\u001b[90m<fct>\u001b[39m\u001b[23m Low Popularity, Low Popularity, Low Popularity, Low Popularity,…\n"
     ]
    }
   ],
   "source": [
    "set.seed(4567)\n",
    "training_set <- spotify_balanced %>% slice(set_rows)\n",
    "test_set <- spotify_balanced %>% slice(-set_rows)\n",
    "glimpse(training_set)\n",
    "glimpse(test_set)"
   ]
  },
  {
   "cell_type": "code",
   "execution_count": 14,
   "metadata": {
    "scrolled": true
   },
   "outputs": [
    {
     "data": {
      "text/html": [
       "<table>\n",
       "<caption>A data.frame: 6 × 3</caption>\n",
       "<thead>\n",
       "\t<tr><th scope=col>nrgy</th><th scope=col>dB</th><th scope=col>Class</th></tr>\n",
       "\t<tr><th scope=col>&lt;dbl&gt;</th><th scope=col>&lt;dbl&gt;</th><th scope=col>&lt;fct&gt;</th></tr>\n",
       "</thead>\n",
       "<tbody>\n",
       "\t<tr><td>90</td><td>-5</td><td>Low Popularity</td></tr>\n",
       "\t<tr><td>98</td><td>-3</td><td>Low Popularity</td></tr>\n",
       "\t<tr><td>88</td><td>-4</td><td>Low Popularity</td></tr>\n",
       "\t<tr><td>88</td><td>-4</td><td>Low Popularity</td></tr>\n",
       "\t<tr><td>81</td><td>-4</td><td>Low Popularity</td></tr>\n",
       "\t<tr><td>92</td><td>-3</td><td>Low Popularity</td></tr>\n",
       "</tbody>\n",
       "</table>\n"
      ],
      "text/latex": [
       "A data.frame: 6 × 3\n",
       "\\begin{tabular}{r|lll}\n",
       " nrgy & dB & Class\\\\\n",
       " <dbl> & <dbl> & <fct>\\\\\n",
       "\\hline\n",
       "\t 90 & -5 & Low Popularity\\\\\n",
       "\t 98 & -3 & Low Popularity\\\\\n",
       "\t 88 & -4 & Low Popularity\\\\\n",
       "\t 88 & -4 & Low Popularity\\\\\n",
       "\t 81 & -4 & Low Popularity\\\\\n",
       "\t 92 & -3 & Low Popularity\\\\\n",
       "\\end{tabular}\n"
      ],
      "text/markdown": [
       "\n",
       "A data.frame: 6 × 3\n",
       "\n",
       "| nrgy &lt;dbl&gt; | dB &lt;dbl&gt; | Class &lt;fct&gt; |\n",
       "|---|---|---|\n",
       "| 90 | -5 | Low Popularity |\n",
       "| 98 | -3 | Low Popularity |\n",
       "| 88 | -4 | Low Popularity |\n",
       "| 88 | -4 | Low Popularity |\n",
       "| 81 | -4 | Low Popularity |\n",
       "| 92 | -3 | Low Popularity |\n",
       "\n"
      ],
      "text/plain": [
       "  nrgy dB Class         \n",
       "1 90   -5 Low Popularity\n",
       "2 98   -3 Low Popularity\n",
       "3 88   -4 Low Popularity\n",
       "4 88   -4 Low Popularity\n",
       "5 81   -4 Low Popularity\n",
       "6 92   -3 Low Popularity"
      ]
     },
     "metadata": {},
     "output_type": "display_data"
    },
    {
     "data": {
      "text/html": [
       "<table>\n",
       "<caption>A data.frame: 6 × 3</caption>\n",
       "<thead>\n",
       "\t<tr><th scope=col>nrgy</th><th scope=col>dB</th><th scope=col>Class</th></tr>\n",
       "\t<tr><th scope=col>&lt;dbl&gt;</th><th scope=col>&lt;dbl&gt;</th><th scope=col>&lt;fct&gt;</th></tr>\n",
       "</thead>\n",
       "<tbody>\n",
       "\t<tr><td>83</td><td> -5</td><td>Low Popularity</td></tr>\n",
       "\t<tr><td>72</td><td> -5</td><td>Low Popularity</td></tr>\n",
       "\t<tr><td>73</td><td> -6</td><td>Low Popularity</td></tr>\n",
       "\t<tr><td>73</td><td> -6</td><td>Low Popularity</td></tr>\n",
       "\t<tr><td>47</td><td>-10</td><td>Low Popularity</td></tr>\n",
       "\t<tr><td>81</td><td> -4</td><td>Low Popularity</td></tr>\n",
       "</tbody>\n",
       "</table>\n"
      ],
      "text/latex": [
       "A data.frame: 6 × 3\n",
       "\\begin{tabular}{r|lll}\n",
       " nrgy & dB & Class\\\\\n",
       " <dbl> & <dbl> & <fct>\\\\\n",
       "\\hline\n",
       "\t 83 &  -5 & Low Popularity\\\\\n",
       "\t 72 &  -5 & Low Popularity\\\\\n",
       "\t 73 &  -6 & Low Popularity\\\\\n",
       "\t 73 &  -6 & Low Popularity\\\\\n",
       "\t 47 & -10 & Low Popularity\\\\\n",
       "\t 81 &  -4 & Low Popularity\\\\\n",
       "\\end{tabular}\n"
      ],
      "text/markdown": [
       "\n",
       "A data.frame: 6 × 3\n",
       "\n",
       "| nrgy &lt;dbl&gt; | dB &lt;dbl&gt; | Class &lt;fct&gt; |\n",
       "|---|---|---|\n",
       "| 83 |  -5 | Low Popularity |\n",
       "| 72 |  -5 | Low Popularity |\n",
       "| 73 |  -6 | Low Popularity |\n",
       "| 73 |  -6 | Low Popularity |\n",
       "| 47 | -10 | Low Popularity |\n",
       "| 81 |  -4 | Low Popularity |\n",
       "\n"
      ],
      "text/plain": [
       "  nrgy dB  Class         \n",
       "1 83    -5 Low Popularity\n",
       "2 72    -5 Low Popularity\n",
       "3 73    -6 Low Popularity\n",
       "4 73    -6 Low Popularity\n",
       "5 47   -10 Low Popularity\n",
       "6 81    -4 Low Popularity"
      ]
     },
     "metadata": {},
     "output_type": "display_data"
    }
   ],
   "source": [
    "head(training_set)\n",
    "head(test_set)"
   ]
  },
  {
   "cell_type": "markdown",
   "metadata": {},
   "source": [
    "3. Here we scaled the data set as to center the predictors in our model and to ensure that the testing data doesn't interfere with our results."
   ]
  },
  {
   "cell_type": "code",
   "execution_count": 15,
   "metadata": {},
   "outputs": [],
   "source": [
    "scale_transformer <- preProcess(training_set, method = c(\"center\", \"scale\")) \n",
    "training_set <- predict(scale_transformer, training_set)\n",
    "test_set <- predict(scale_transformer, test_set)"
   ]
  },
  {
   "cell_type": "markdown",
   "metadata": {},
   "source": [
    "### 2.8 Cross Validation"
   ]
  },
  {
   "cell_type": "markdown",
   "metadata": {},
   "source": [
    "Here we specified what are predictive variables and our classifications are going to be within the X_train and Y_train representing them respectively. We set the seed so that the random assignments of data that we used can be reproduced. We are looking at the results of all the k's in dataframe with a range of 1 to 50 to see which k value fits the data best for this large dataset. Then we will create our classifier by the use of the train() function so that we can find the k with the best accuracy, which in this case is k = 1. We will discuss the issues with this later on in the results and discussion sections. "
   ]
  },
  {
   "cell_type": "code",
   "execution_count": 16,
   "metadata": {},
   "outputs": [
    {
     "data": {
      "text/html": [
       "<table>\n",
       "<caption>A data.frame: 6 × 2</caption>\n",
       "<thead>\n",
       "\t<tr><th scope=col>dB</th><th scope=col>nrgy</th></tr>\n",
       "\t<tr><th scope=col>&lt;dbl&gt;</th><th scope=col>&lt;dbl&gt;</th></tr>\n",
       "</thead>\n",
       "<tbody>\n",
       "\t<tr><td>0.1966901</td><td>1.0306285</td></tr>\n",
       "\t<tr><td>0.4867988</td><td>1.4537644</td></tr>\n",
       "\t<tr><td>0.3417445</td><td>0.9248446</td></tr>\n",
       "\t<tr><td>0.3417445</td><td>0.9248446</td></tr>\n",
       "\t<tr><td>0.3417445</td><td>0.5546007</td></tr>\n",
       "\t<tr><td>0.4867988</td><td>1.1364125</td></tr>\n",
       "</tbody>\n",
       "</table>\n"
      ],
      "text/latex": [
       "A data.frame: 6 × 2\n",
       "\\begin{tabular}{r|ll}\n",
       " dB & nrgy\\\\\n",
       " <dbl> & <dbl>\\\\\n",
       "\\hline\n",
       "\t 0.1966901 & 1.0306285\\\\\n",
       "\t 0.4867988 & 1.4537644\\\\\n",
       "\t 0.3417445 & 0.9248446\\\\\n",
       "\t 0.3417445 & 0.9248446\\\\\n",
       "\t 0.3417445 & 0.5546007\\\\\n",
       "\t 0.4867988 & 1.1364125\\\\\n",
       "\\end{tabular}\n"
      ],
      "text/markdown": [
       "\n",
       "A data.frame: 6 × 2\n",
       "\n",
       "| dB &lt;dbl&gt; | nrgy &lt;dbl&gt; |\n",
       "|---|---|\n",
       "| 0.1966901 | 1.0306285 |\n",
       "| 0.4867988 | 1.4537644 |\n",
       "| 0.3417445 | 0.9248446 |\n",
       "| 0.3417445 | 0.9248446 |\n",
       "| 0.3417445 | 0.5546007 |\n",
       "| 0.4867988 | 1.1364125 |\n",
       "\n"
      ],
      "text/plain": [
       "  dB        nrgy     \n",
       "1 0.1966901 1.0306285\n",
       "2 0.4867988 1.4537644\n",
       "3 0.3417445 0.9248446\n",
       "4 0.3417445 0.9248446\n",
       "5 0.3417445 0.5546007\n",
       "6 0.4867988 1.1364125"
      ]
     },
     "metadata": {},
     "output_type": "display_data"
    },
    {
     "data": {
      "text/html": [
       "<dl class=dl-horizontal>\n",
       "\t<dt>Class1</dt>\n",
       "\t\t<dd>Low Popularity</dd>\n",
       "\t<dt>Class2</dt>\n",
       "\t\t<dd>Low Popularity</dd>\n",
       "\t<dt>Class3</dt>\n",
       "\t\t<dd>Low Popularity</dd>\n",
       "\t<dt>Class4</dt>\n",
       "\t\t<dd>Low Popularity</dd>\n",
       "\t<dt>Class5</dt>\n",
       "\t\t<dd>Low Popularity</dd>\n",
       "\t<dt>Class6</dt>\n",
       "\t\t<dd>Low Popularity</dd>\n",
       "</dl>\n",
       "\n",
       "<details>\n",
       "\t<summary style=display:list-item;cursor:pointer>\n",
       "\t\t<strong>Levels</strong>:\n",
       "\t</summary>\n",
       "\t<ol class=list-inline>\n",
       "\t\t<li>'Low Popularity'</li>\n",
       "\t\t<li>'Normal Popularity'</li>\n",
       "\t\t<li>'High Popularity'</li>\n",
       "\t</ol>\n",
       "</details>"
      ],
      "text/latex": [
       "\\begin{description*}\n",
       "\\item[Class1] Low Popularity\n",
       "\\item[Class2] Low Popularity\n",
       "\\item[Class3] Low Popularity\n",
       "\\item[Class4] Low Popularity\n",
       "\\item[Class5] Low Popularity\n",
       "\\item[Class6] Low Popularity\n",
       "\\end{description*}\n",
       "\n",
       "\\emph{Levels}: \\begin{enumerate*}\n",
       "\\item 'Low Popularity'\n",
       "\\item 'Normal Popularity'\n",
       "\\item 'High Popularity'\n",
       "\\end{enumerate*}\n"
      ],
      "text/markdown": [
       "Class1\n",
       ":   Low PopularityClass2\n",
       ":   Low PopularityClass3\n",
       ":   Low PopularityClass4\n",
       ":   Low PopularityClass5\n",
       ":   Low PopularityClass6\n",
       ":   Low Popularity\n",
       "\n",
       "\n",
       "**Levels**: 1. 'Low Popularity'\n",
       "2. 'Normal Popularity'\n",
       "3. 'High Popularity'\n",
       "\n",
       "\n"
      ],
      "text/plain": [
       "        Class1         Class2         Class3         Class4         Class5 \n",
       "Low Popularity Low Popularity Low Popularity Low Popularity Low Popularity \n",
       "        Class6 \n",
       "Low Popularity \n",
       "Levels: Low Popularity Normal Popularity High Popularity"
      ]
     },
     "metadata": {},
     "output_type": "display_data"
    },
    {
     "data": {
      "text/plain": [
       "k-Nearest Neighbors \n",
       "\n",
       "795 samples\n",
       "  2 predictor\n",
       "  3 classes: 'Low Popularity', 'Normal Popularity', 'High Popularity' \n",
       "\n",
       "No pre-processing\n",
       "Resampling: Cross-Validated (10 fold) \n",
       "Summary of sample sizes: 716, 714, 715, 717, 714, 717, ... \n",
       "Resampling results across tuning parameters:\n",
       "\n",
       "  k   Accuracy   Kappa     \n",
       "   1  0.7123028  0.56842080\n",
       "   2  0.7058802  0.55879898\n",
       "   3  0.6882038  0.53229130\n",
       "   4  0.6717754  0.50767725\n",
       "   5  0.6605222  0.49078724\n",
       "   6  0.6427195  0.46404551\n",
       "   7  0.6176990  0.42647342\n",
       "   8  0.6024766  0.40369993\n",
       "   9  0.5985988  0.39797673\n",
       "  10  0.5861265  0.37928147\n",
       "  11  0.5735933  0.36051310\n",
       "  12  0.5545525  0.33205485\n",
       "  13  0.5408326  0.31151952\n",
       "  14  0.5347230  0.30217105\n",
       "  15  0.5285173  0.29280099\n",
       "  16  0.5246257  0.28693442\n",
       "  17  0.5233745  0.28503568\n",
       "  18  0.5156683  0.27342966\n",
       "  19  0.4979744  0.24684103\n",
       "  20  0.5044951  0.25668201\n",
       "  21  0.4970085  0.24542283\n",
       "  22  0.4944615  0.24164097\n",
       "  23  0.5007115  0.25100839\n",
       "  24  0.4919761  0.23808750\n",
       "  25  0.4805983  0.22112171\n",
       "  26  0.4682067  0.20259984\n",
       "  27  0.4593440  0.18909043\n",
       "  28  0.4567162  0.18522498\n",
       "  29  0.4529658  0.17967265\n",
       "  30  0.4441358  0.16644288\n",
       "  31  0.4413664  0.16222598\n",
       "  32  0.4463197  0.16968802\n",
       "  33  0.4527133  0.17923261\n",
       "  34  0.4461298  0.16939752\n",
       "  35  0.4499415  0.17520857\n",
       "  36  0.4525206  0.17904717\n",
       "  37  0.4474878  0.17146534\n",
       "  38  0.4514439  0.17739698\n",
       "  39  0.4389404  0.15854898\n",
       "  40  0.4516331  0.17766124\n",
       "  41  0.4491165  0.17382984\n",
       "  42  0.4352683  0.15303338\n",
       "  43  0.4339072  0.15103536\n",
       "  44  0.4264380  0.13978547\n",
       "  45  0.4175143  0.12641760\n",
       "  46  0.4087295  0.11309449\n",
       "  47  0.3998838  0.09989184\n",
       "  48  0.3922381  0.08846552\n",
       "  49  0.4062421  0.10960678\n",
       "  50  0.4049312  0.10764221\n",
       "\n",
       "Accuracy was used to select the optimal model using the largest value.\n",
       "The final value used for the model was k = 1."
      ]
     },
     "metadata": {},
     "output_type": "display_data"
    }
   ],
   "source": [
    "set.seed(4567)\n",
    "\n",
    "X_train <- training_set %>% \n",
    "  select(dB, nrgy) %>% \n",
    "  data.frame()\n",
    "Y_train <- training_set %>% \n",
    "  select(Class) %>% \n",
    "  unlist()\n",
    "head(X_train)\n",
    "head(Y_train)\n",
    "\n",
    "set.seed(4567)\n",
    "\n",
    "ks = data.frame(k = 1:50)\n",
    "\n",
    "train_control<-trainControl(method= \"cv\", number = 10)\n",
    "choose_k<- train(x = X_train, y = Y_train, method = \"knn\", tuneGrid= ks, trControl = train_control)\n",
    "choose_k"
   ]
  },
  {
   "cell_type": "code",
   "execution_count": 17,
   "metadata": {},
   "outputs": [
    {
     "data": {
      "text/html": [
       "<table>\n",
       "<caption>A data.frame: 50 × 2</caption>\n",
       "<thead>\n",
       "\t<tr><th scope=col>k</th><th scope=col>Accuracy</th></tr>\n",
       "\t<tr><th scope=col>&lt;int&gt;</th><th scope=col>&lt;dbl&gt;</th></tr>\n",
       "</thead>\n",
       "<tbody>\n",
       "\t<tr><td> 1</td><td>0.7123028</td></tr>\n",
       "\t<tr><td> 2</td><td>0.7058802</td></tr>\n",
       "\t<tr><td> 3</td><td>0.6882038</td></tr>\n",
       "\t<tr><td> 4</td><td>0.6717754</td></tr>\n",
       "\t<tr><td> 5</td><td>0.6605222</td></tr>\n",
       "\t<tr><td> 6</td><td>0.6427195</td></tr>\n",
       "\t<tr><td> 7</td><td>0.6176990</td></tr>\n",
       "\t<tr><td> 8</td><td>0.6024766</td></tr>\n",
       "\t<tr><td> 9</td><td>0.5985988</td></tr>\n",
       "\t<tr><td>10</td><td>0.5861265</td></tr>\n",
       "\t<tr><td>11</td><td>0.5735933</td></tr>\n",
       "\t<tr><td>12</td><td>0.5545525</td></tr>\n",
       "\t<tr><td>13</td><td>0.5408326</td></tr>\n",
       "\t<tr><td>14</td><td>0.5347230</td></tr>\n",
       "\t<tr><td>15</td><td>0.5285173</td></tr>\n",
       "\t<tr><td>16</td><td>0.5246257</td></tr>\n",
       "\t<tr><td>17</td><td>0.5233745</td></tr>\n",
       "\t<tr><td>18</td><td>0.5156683</td></tr>\n",
       "\t<tr><td>19</td><td>0.4979744</td></tr>\n",
       "\t<tr><td>20</td><td>0.5044951</td></tr>\n",
       "\t<tr><td>21</td><td>0.4970085</td></tr>\n",
       "\t<tr><td>22</td><td>0.4944615</td></tr>\n",
       "\t<tr><td>23</td><td>0.5007115</td></tr>\n",
       "\t<tr><td>24</td><td>0.4919761</td></tr>\n",
       "\t<tr><td>25</td><td>0.4805983</td></tr>\n",
       "\t<tr><td>26</td><td>0.4682067</td></tr>\n",
       "\t<tr><td>27</td><td>0.4593440</td></tr>\n",
       "\t<tr><td>28</td><td>0.4567162</td></tr>\n",
       "\t<tr><td>29</td><td>0.4529658</td></tr>\n",
       "\t<tr><td>30</td><td>0.4441358</td></tr>\n",
       "\t<tr><td>31</td><td>0.4413664</td></tr>\n",
       "\t<tr><td>32</td><td>0.4463197</td></tr>\n",
       "\t<tr><td>33</td><td>0.4527133</td></tr>\n",
       "\t<tr><td>34</td><td>0.4461298</td></tr>\n",
       "\t<tr><td>35</td><td>0.4499415</td></tr>\n",
       "\t<tr><td>36</td><td>0.4525206</td></tr>\n",
       "\t<tr><td>37</td><td>0.4474878</td></tr>\n",
       "\t<tr><td>38</td><td>0.4514439</td></tr>\n",
       "\t<tr><td>39</td><td>0.4389404</td></tr>\n",
       "\t<tr><td>40</td><td>0.4516331</td></tr>\n",
       "\t<tr><td>41</td><td>0.4491165</td></tr>\n",
       "\t<tr><td>42</td><td>0.4352683</td></tr>\n",
       "\t<tr><td>43</td><td>0.4339072</td></tr>\n",
       "\t<tr><td>44</td><td>0.4264380</td></tr>\n",
       "\t<tr><td>45</td><td>0.4175143</td></tr>\n",
       "\t<tr><td>46</td><td>0.4087295</td></tr>\n",
       "\t<tr><td>47</td><td>0.3998838</td></tr>\n",
       "\t<tr><td>48</td><td>0.3922381</td></tr>\n",
       "\t<tr><td>49</td><td>0.4062421</td></tr>\n",
       "\t<tr><td>50</td><td>0.4049312</td></tr>\n",
       "</tbody>\n",
       "</table>\n"
      ],
      "text/latex": [
       "A data.frame: 50 × 2\n",
       "\\begin{tabular}{r|ll}\n",
       " k & Accuracy\\\\\n",
       " <int> & <dbl>\\\\\n",
       "\\hline\n",
       "\t  1 & 0.7123028\\\\\n",
       "\t  2 & 0.7058802\\\\\n",
       "\t  3 & 0.6882038\\\\\n",
       "\t  4 & 0.6717754\\\\\n",
       "\t  5 & 0.6605222\\\\\n",
       "\t  6 & 0.6427195\\\\\n",
       "\t  7 & 0.6176990\\\\\n",
       "\t  8 & 0.6024766\\\\\n",
       "\t  9 & 0.5985988\\\\\n",
       "\t 10 & 0.5861265\\\\\n",
       "\t 11 & 0.5735933\\\\\n",
       "\t 12 & 0.5545525\\\\\n",
       "\t 13 & 0.5408326\\\\\n",
       "\t 14 & 0.5347230\\\\\n",
       "\t 15 & 0.5285173\\\\\n",
       "\t 16 & 0.5246257\\\\\n",
       "\t 17 & 0.5233745\\\\\n",
       "\t 18 & 0.5156683\\\\\n",
       "\t 19 & 0.4979744\\\\\n",
       "\t 20 & 0.5044951\\\\\n",
       "\t 21 & 0.4970085\\\\\n",
       "\t 22 & 0.4944615\\\\\n",
       "\t 23 & 0.5007115\\\\\n",
       "\t 24 & 0.4919761\\\\\n",
       "\t 25 & 0.4805983\\\\\n",
       "\t 26 & 0.4682067\\\\\n",
       "\t 27 & 0.4593440\\\\\n",
       "\t 28 & 0.4567162\\\\\n",
       "\t 29 & 0.4529658\\\\\n",
       "\t 30 & 0.4441358\\\\\n",
       "\t 31 & 0.4413664\\\\\n",
       "\t 32 & 0.4463197\\\\\n",
       "\t 33 & 0.4527133\\\\\n",
       "\t 34 & 0.4461298\\\\\n",
       "\t 35 & 0.4499415\\\\\n",
       "\t 36 & 0.4525206\\\\\n",
       "\t 37 & 0.4474878\\\\\n",
       "\t 38 & 0.4514439\\\\\n",
       "\t 39 & 0.4389404\\\\\n",
       "\t 40 & 0.4516331\\\\\n",
       "\t 41 & 0.4491165\\\\\n",
       "\t 42 & 0.4352683\\\\\n",
       "\t 43 & 0.4339072\\\\\n",
       "\t 44 & 0.4264380\\\\\n",
       "\t 45 & 0.4175143\\\\\n",
       "\t 46 & 0.4087295\\\\\n",
       "\t 47 & 0.3998838\\\\\n",
       "\t 48 & 0.3922381\\\\\n",
       "\t 49 & 0.4062421\\\\\n",
       "\t 50 & 0.4049312\\\\\n",
       "\\end{tabular}\n"
      ],
      "text/markdown": [
       "\n",
       "A data.frame: 50 × 2\n",
       "\n",
       "| k &lt;int&gt; | Accuracy &lt;dbl&gt; |\n",
       "|---|---|\n",
       "|  1 | 0.7123028 |\n",
       "|  2 | 0.7058802 |\n",
       "|  3 | 0.6882038 |\n",
       "|  4 | 0.6717754 |\n",
       "|  5 | 0.6605222 |\n",
       "|  6 | 0.6427195 |\n",
       "|  7 | 0.6176990 |\n",
       "|  8 | 0.6024766 |\n",
       "|  9 | 0.5985988 |\n",
       "| 10 | 0.5861265 |\n",
       "| 11 | 0.5735933 |\n",
       "| 12 | 0.5545525 |\n",
       "| 13 | 0.5408326 |\n",
       "| 14 | 0.5347230 |\n",
       "| 15 | 0.5285173 |\n",
       "| 16 | 0.5246257 |\n",
       "| 17 | 0.5233745 |\n",
       "| 18 | 0.5156683 |\n",
       "| 19 | 0.4979744 |\n",
       "| 20 | 0.5044951 |\n",
       "| 21 | 0.4970085 |\n",
       "| 22 | 0.4944615 |\n",
       "| 23 | 0.5007115 |\n",
       "| 24 | 0.4919761 |\n",
       "| 25 | 0.4805983 |\n",
       "| 26 | 0.4682067 |\n",
       "| 27 | 0.4593440 |\n",
       "| 28 | 0.4567162 |\n",
       "| 29 | 0.4529658 |\n",
       "| 30 | 0.4441358 |\n",
       "| 31 | 0.4413664 |\n",
       "| 32 | 0.4463197 |\n",
       "| 33 | 0.4527133 |\n",
       "| 34 | 0.4461298 |\n",
       "| 35 | 0.4499415 |\n",
       "| 36 | 0.4525206 |\n",
       "| 37 | 0.4474878 |\n",
       "| 38 | 0.4514439 |\n",
       "| 39 | 0.4389404 |\n",
       "| 40 | 0.4516331 |\n",
       "| 41 | 0.4491165 |\n",
       "| 42 | 0.4352683 |\n",
       "| 43 | 0.4339072 |\n",
       "| 44 | 0.4264380 |\n",
       "| 45 | 0.4175143 |\n",
       "| 46 | 0.4087295 |\n",
       "| 47 | 0.3998838 |\n",
       "| 48 | 0.3922381 |\n",
       "| 49 | 0.4062421 |\n",
       "| 50 | 0.4049312 |\n",
       "\n"
      ],
      "text/plain": [
       "   k  Accuracy \n",
       "1   1 0.7123028\n",
       "2   2 0.7058802\n",
       "3   3 0.6882038\n",
       "4   4 0.6717754\n",
       "5   5 0.6605222\n",
       "6   6 0.6427195\n",
       "7   7 0.6176990\n",
       "8   8 0.6024766\n",
       "9   9 0.5985988\n",
       "10 10 0.5861265\n",
       "11 11 0.5735933\n",
       "12 12 0.5545525\n",
       "13 13 0.5408326\n",
       "14 14 0.5347230\n",
       "15 15 0.5285173\n",
       "16 16 0.5246257\n",
       "17 17 0.5233745\n",
       "18 18 0.5156683\n",
       "19 19 0.4979744\n",
       "20 20 0.5044951\n",
       "21 21 0.4970085\n",
       "22 22 0.4944615\n",
       "23 23 0.5007115\n",
       "24 24 0.4919761\n",
       "25 25 0.4805983\n",
       "26 26 0.4682067\n",
       "27 27 0.4593440\n",
       "28 28 0.4567162\n",
       "29 29 0.4529658\n",
       "30 30 0.4441358\n",
       "31 31 0.4413664\n",
       "32 32 0.4463197\n",
       "33 33 0.4527133\n",
       "34 34 0.4461298\n",
       "35 35 0.4499415\n",
       "36 36 0.4525206\n",
       "37 37 0.4474878\n",
       "38 38 0.4514439\n",
       "39 39 0.4389404\n",
       "40 40 0.4516331\n",
       "41 41 0.4491165\n",
       "42 42 0.4352683\n",
       "43 43 0.4339072\n",
       "44 44 0.4264380\n",
       "45 45 0.4175143\n",
       "46 46 0.4087295\n",
       "47 47 0.3998838\n",
       "48 48 0.3922381\n",
       "49 49 0.4062421\n",
       "50 50 0.4049312"
      ]
     },
     "metadata": {},
     "output_type": "display_data"
    }
   ],
   "source": [
    "k_accuracies <- choose_k$results %>%\n",
    "                    select(k, Accuracy)\n",
    "head(k_accuracies)"
   ]
  },
  {
   "cell_type": "markdown",
   "metadata": {},
   "source": [
    "Here we will visualize all the k values we tested in a line and point plot so that we can visually assess which is the best k value for this model."
   ]
  },
  {
   "cell_type": "code",
   "execution_count": 18,
   "metadata": {},
   "outputs": [
    {
     "data": {
      "image/png": "[encoded data removed]",
      "text/plain": [
       "plot without title"
      ]
     },
     "metadata": {},
     "output_type": "display_data"
    }
   ],
   "source": [
    "k_plot <- ggplot(k_accuracies, aes(x = k, y = Accuracy))+\n",
    "                geom_point()+\n",
    "                geom_line()+\n",
    "                labs(x = \"K\", y = \"Accuracy\")\n",
    "k_plot"
   ]
  },
  {
   "cell_type": "markdown",
   "metadata": {},
   "source": [
    "### 2.9 Testing the Accuracy of the Model"
   ]
  },
  {
   "cell_type": "markdown",
   "metadata": {},
   "source": [
    "Finally we will use our untouched test data to assess the accuracy of the model that we have created. "
   ]
  },
  {
   "cell_type": "markdown",
   "metadata": {},
   "source": [
    "Here we are retraining our classifier to the options that gave it the best results. (i.e. fitting it to k = 1)"
   ]
  },
  {
   "cell_type": "code",
   "execution_count": 19,
   "metadata": {},
   "outputs": [
    {
     "data": {
      "text/plain": [
       "k-Nearest Neighbors \n",
       "\n",
       "795 samples\n",
       "  2 predictor\n",
       "  3 classes: 'Low Popularity', 'Normal Popularity', 'High Popularity' \n",
       "\n",
       "No pre-processing\n",
       "Resampling: Bootstrapped (25 reps) \n",
       "Summary of sample sizes: 795, 795, 795, 795, 795, 795, ... \n",
       "Resampling results:\n",
       "\n",
       "  Accuracy   Kappa    \n",
       "  0.7103994  0.5649489\n",
       "\n",
       "Tuning parameter 'k' was held constant at a value of 1"
      ]
     },
     "metadata": {},
     "output_type": "display_data"
    }
   ],
   "source": [
    "set.seed(4567)\n",
    "final_k = data.frame(k = 1)\n",
    "classifier_final <- train(x = X_train, y = Y_train, method = \"knn\", tuneGrid = final_k)\n",
    "classifier_final"
   ]
  },
  {
   "cell_type": "markdown",
   "metadata": {},
   "source": [
    "Here we use our retrained classifier to predict the popularity levels of the test set, and then gage the accuracy of our model."
   ]
  },
  {
   "cell_type": "code",
   "execution_count": 20,
   "metadata": {},
   "outputs": [
    {
     "data": {
      "text/plain": [
       "Confusion Matrix and Statistics\n",
       "\n",
       "                   Reference\n",
       "Prediction          Low Popularity Normal Popularity High Popularity\n",
       "  Low Popularity                 0                 1               2\n",
       "  Normal Popularity             45                51              48\n",
       "  High Popularity               43                36              38\n",
       "\n",
       "Overall Statistics\n",
       "                                          \n",
       "               Accuracy : 0.3371          \n",
       "                 95% CI : (0.2803, 0.3976)\n",
       "    No Information Rate : 0.3333          \n",
       "    P-Value [Acc > NIR] : 0.4711          \n",
       "                                          \n",
       "                  Kappa : 0.0057          \n",
       "                                          \n",
       " Mcnemar's Test P-Value : <2e-16          \n",
       "\n",
       "Statistics by Class:\n",
       "\n",
       "                     Class: Low Popularity Class: Normal Popularity\n",
       "Sensitivity                        0.00000                   0.5795\n",
       "Specificity                        0.98295                   0.4716\n",
       "Pos Pred Value                     0.00000                   0.3542\n",
       "Neg Pred Value                     0.66284                   0.6917\n",
       "Prevalence                         0.33333                   0.3333\n",
       "Detection Rate                     0.00000                   0.1932\n",
       "Detection Prevalence               0.01136                   0.5455\n",
       "Balanced Accuracy                  0.49148                   0.5256\n",
       "                     Class: High Popularity\n",
       "Sensitivity                          0.4318\n",
       "Specificity                          0.5511\n",
       "Pos Pred Value                       0.3248\n",
       "Neg Pred Value                       0.6599\n",
       "Prevalence                           0.3333\n",
       "Detection Rate                       0.1439\n",
       "Detection Prevalence                 0.4432\n",
       "Balanced Accuracy                    0.4915"
      ]
     },
     "metadata": {},
     "output_type": "display_data"
    }
   ],
   "source": [
    "set.seed(4567)\n",
    "X_test <- test_set %>% \n",
    "    select(nrgy, dB) %>% \n",
    "    data.frame()\n",
    "Y_test <- test_set %>% \n",
    "    select(Class) %>% \n",
    "    unlist()\n",
    "test_pred <- predict(classifier_final, X_test)\n",
    "results <- confusionMatrix(test_pred, Y_test)\n",
    "\n",
    "results"
   ]
  },
  {
   "cell_type": "markdown",
   "metadata": {},
   "source": [
    "As we can see the accuracy of our model of our model is quite bad with an accuracy level of .3371"
   ]
  },
  {
   "cell_type": "markdown",
   "metadata": {},
   "source": [
    "## 3.0 Discussion"
   ]
  },
  {
   "cell_type": "markdown",
   "metadata": {},
   "source": [
    "### 3.1 Summary of Results"
   ]
  },
  {
   "cell_type": "markdown",
   "metadata": {},
   "source": [
    "We have built a k-nearest neighbours classification model that takes a song’s energy levels (how energetic a song is) and loudness (in decibels) to predict how popular the song will be on Spotify (low, normal, or high popularity).\n",
    "A cross validation method was used on the model to ensure the most accurate k value is used to create the model, as well further training on the model was done to improve the classifier. Through these methods, we used k = 1, which gives our model a final accuracy of 0.71 on the training data set.\n",
    "Using k = 1 is problematic as it overfits the data and is a sign of a lack of correlation of the classification clusters.\n",
    "This was seen when we used this classification model on the testing data set, and obtained an accuracy score of 0.33 proving that our data was too random to accurately predict the popularity of a given song based off of loudness and energy."
   ]
  },
  {
   "cell_type": "markdown",
   "metadata": {},
   "source": [
    "### 3.2 Conclusion"
   ]
  },
  {
   "cell_type": "markdown",
   "metadata": {},
   "source": [
    "In conclusion, it is seen that the classification model is not accurate in predicting a song’s popularity on Spotify based on a song’s energy and loudness levels. \n",
    "This is what we expected though after the exploratory data analysis because through that we observed that there were no distinct classes in particular areas on the plot with energy on the x-axis and loudness on the y-axis. They were all very randomly scattered, which is what warned us that the classification model would likely not be very accurate. However, we still continued with using these 2 predictor variables because we looked at the ggpairs plot of every single variables correlation with the popularity, and energy and loudness were actually the variables with the highest correlation, which gave slight hope that maybe the classification might be somewhat accurate.\n"
   ]
  },
  {
   "cell_type": "markdown",
   "metadata": {},
   "source": [
    "### 3.4 Impact"
   ]
  },
  {
   "cell_type": "markdown",
   "metadata": {},
   "source": [
    "Despite the classification model not being accurate, these findings are actually very impactful. Due to the low accuracy of the model not being able to take a song’s energy and loudness to predict its popularity, it is seen that a song’s loudness and energy levels do not have a strong correlation to  a song’s popularity on Spotify. Furthermore, through the analysis of this project, it can be seen that a song does not have to adhere to specific energy and loudness levels to become popular on Spotify. \n"
   ]
  },
  {
   "cell_type": "markdown",
   "metadata": {},
   "source": [
    "### 3.5 Future Questions"
   ]
  },
  {
   "cell_type": "markdown",
   "metadata": {},
   "source": [
    "A closely related future question that could be looked at could involve making regression models with these variables to determine a song’s popularity. Perhaps the regression model might be more accurate than the k nearest neighbours classification model. \n",
    "Another future question could be to get new data from different decades to see if there used to be stronger correlations between a song’s characteristics and its popularity in the past, because I do think that nowadays song’s are very different from one another and any song can get popular with the right timing and luck. Whereas in the past I think there are much more limitations on what a song must sound like for it to become popular. \n"
   ]
  },
  {
   "cell_type": "markdown",
   "metadata": {},
   "source": [
    "## 4.0 References"
   ]
  },
  {
   "cell_type": "markdown",
   "metadata": {},
   "source": [
    "Henrique, L. (2019, December 26). Top Spotify songs from 2010-2019 - BY YEAR. Retrieved from https://www.kaggle.com/leonardopena/top-spotify-songs-from-20102019-by-year?fbclid=IwAR0qS-Cwmqfc1z3H7XHE6NSRH2mnY_-XWka9CZx38-eq85nuNiAXLJSwlek\n"
   ]
  },
  {
   "cell_type": "markdown",
   "metadata": {},
   "source": [
    "DiFranza, A. (2019, October 7). Spotify: Big Data Shows Big Results. Retrieved from https://www.northeastern.edu/graduate/blog/spotify-big-data/\n",
    "\n"
   ]
  }
 ],
 "metadata": {
  "kernelspec": {
   "display_name": "R",
   "language": "R",
   "name": "ir"
  },
  "language_info": {
   "codemirror_mode": "r",
   "file_extension": ".r",
   "mimetype": "text/x-r-source",
   "name": "R",
   "pygments_lexer": "r",
   "version": "3.6.1"
  }
 },
 "nbformat": 4,
 "nbformat_minor": 2
}
